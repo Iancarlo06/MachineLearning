{
 "cells": [
  {
   "cell_type": "markdown",
   "metadata": {},
   "source": [
    "# Problema 1\n",
    "\n",
    "Se utiliza el directorio de os para mostrar que se realizó el problema. \n",
    "Como nos interesa enumerar los nombres de los archivos, usamos enumerate()"
   ]
  },
  {
   "cell_type": "code",
   "execution_count": 26,
   "metadata": {},
   "outputs": [
    {
     "name": "stdout",
     "output_type": "stream",
     "text": [
      "['.ipynb_checkpoints', 'Untitled.ipynb']\n",
      "{0: '.ipynb_checkpoints', 1: 'Untitled.ipynb'}\n"
     ]
    }
   ],
   "source": [
    "import os\n",
    "\n",
    "files = os.listdir()\n",
    "print(files)\n",
    "dicc = {i:x for i,x in enumerate(files)}\n",
    "print(dicc)"
   ]
  },
  {
   "cell_type": "markdown",
   "metadata": {},
   "source": [
    "---\n",
    "# Problema 2\n",
    "\n",
    "Se utiliza el diccionario en el problema anterior, aprovechando la estructura del diccionario y “list comprehension” para hacerlo en una linea"
   ]
  },
  {
   "cell_type": "code",
   "execution_count": 27,
   "metadata": {},
   "outputs": [
    {
     "name": "stdout",
     "output_type": "stream",
     "text": [
      "{'.ipynb_checkpoints': 0, 'Untitled.ipynb': 1}\n"
     ]
    }
   ],
   "source": [
    "ccid = {dicc[x] : x for x in dicc}\n",
    "print(ccid)"
   ]
  },
  {
   "cell_type": "markdown",
   "metadata": {},
   "source": [
    "Se utiliza el directorio de os para mostrar que se realizó el problema. \n",
    "Como nos interesa enumerar los nombres de los archivos, usamos enumerate()"
   ]
  },
  {
   "cell_type": "markdown",
   "metadata": {},
   "source": [
    "---\n",
    "# Problema 3\n",
    "\n",
    "Para la función creamos una string auxiliar que sea la string inicial en minúsculas. Para esto usamos la función lower(). \n",
    "Para regresar si la palabra es palindromo, comparó la string auxiliar con la string al reves, la cual obtenemos con una de las formas de definir strings usando [::1]."
   ]
  },
  {
   "cell_type": "code",
   "execution_count": 2,
   "metadata": {},
   "outputs": [
    {
     "name": "stdout",
     "output_type": "stream",
     "text": [
      "False\n",
      "True\n",
      "False\n"
     ]
    }
   ],
   "source": [
    "def palin(s):\n",
    "    aux = s.lower()\n",
    "    return aux == aux[::-1]\n",
    "print(palin(\"adadadad\"))\n",
    "print(palin(\"ADADAda\"))\n",
    "print(palin(\"Mexico\"))"
   ]
  },
  {
   "cell_type": "markdown",
   "metadata": {},
   "source": [
    "---\n",
    "# Problema 4\n",
    "\n",
    "Para este problema consideramos que las strings estan en formato DD/MM/AAAA \n",
    "\n",
    "Por lo que no consideramos fechas mayores al año 9999. \n",
    "\n",
    "Por otro lado, para cosiderar los bisiestos, consideramos que el año no es menor a 1582\n",
    "\n",
    "Que es cuando se empezó a implementar los años bisiestos.\n",
    "\n",
    "La función regresa el número de dias entre ambas fechas en valor absoluto o -1 en caso de que alguna de las dos fechas no cumpla con el formato. "
   ]
  },
  {
   "cell_type": "code",
   "execution_count": 3,
   "metadata": {},
   "outputs": [
    {
     "name": "stdout",
     "output_type": "stream",
     "text": [
      "8729\n",
      "365\n",
      "366\n"
     ]
    }
   ],
   "source": [
    "#Función que calcula el numero de días entre 1/1/1582 y d/m/a\n",
    "def zero1582(d, m, a):\n",
    "    #Diccionario con la cantidad de dias que tiene cada mes\n",
    "    mes = {1:31, 2:28, 3:31, 4:30, 5:31, 6:30, \n",
    "           7:31, 8:31, 9:30, 10:31, 11:30, 12:31 }\n",
    "    \n",
    "    #Cantidad de años entre a y 1582 por 365\n",
    "    dia = 365*(a - 1582)\n",
    "    \n",
    "    #Agrego el numero de dias entre 12/31/a-1 y d/m/a\n",
    "    for i in range(1,m):\n",
    "        dia += mes[i]\n",
    "    dia += d\n",
    "    \n",
    "    #Sumo el numero de años bisietos\n",
    "    dia += (a - 1580)//4\n",
    "    \n",
    "    #Los años multiplos de 100 no son bisietos\n",
    "    if a > 1699:\n",
    "        dia -= (a - 1600)//100\n",
    "    \n",
    "    #Los años multiplos de 400 si son bisietos\n",
    "    if a > 1999:\n",
    "        dia += (a - 1600)//400\n",
    "    \n",
    "    #Si a es año bisieto, el codigo suma por default el 29 de febrero\n",
    "    #Pero si d/m es antes del 29 de febrero y el año es bisieto tengo que restarlo.  \n",
    "    checa = [a%4 == 0, a%400 == 0 or a%100 != 0, m<=2 and d < 29]\n",
    "    if all(checa):\n",
    "        dia -= 1\n",
    "    return dia\n",
    "\n",
    "#Funcion que compruebe que cumplen el formato y regresar el resultado\n",
    "def difdias(fe1, fe2):\n",
    "    #Paso las strings listas [DD, MM, AAAA]\n",
    "    fe1 = fe1.split('/')\n",
    "    fe2 = fe2.split('/')\n",
    "    \n",
    "    #Convierto los elementos de strings a int's\n",
    "    fe1 = [int(x) for x in fe1]\n",
    "    fe2 = [int(x) for x in fe2]\n",
    "    \n",
    "    #Diccionario con la cantidad de dias que tiene cada mes\n",
    "    mes = {1:31, 2:28, 3:31, 4:30, 5:31, 6:30, \n",
    "           7:31, 8:31, 9:30, 10:31, 11:30, 12:31 }\n",
    "    \n",
    "    #Creo una lista de bools para ver que las fechas cumplen el formato pedido\n",
    "    #Empiezo viendo que el mes y dia sean mayores a 0\n",
    "    checa = [x > 0 for x in fe1] + [x > 0 for x in fe2] \n",
    "    \n",
    "    #Comprueba que el numero de dias no exceda el maximo numero de dias\n",
    "    #que puede tener ese mes. (Ex: 43 de Marzo o 30 de febrero.) \n",
    "    \n",
    "    #Bis es el que tiene las condiciones para aceptar el 29 de febrero \n",
    "    \n",
    "    bis = [fe1[2]%4 == 0, fe1[2]%400 == 0 or fe1[2]%100 != 0, fe1[1] == 2 and fe1[0] == 29]\n",
    "    checa.append(fe1[0] <= mes[fe1[1]] or all(bis))\n",
    "    \n",
    "    bis = [fe2[2]%4 == 0, fe2[2]%400 == 0 or fe2[2]%100 != 0, fe2[1] == 2 and fe2[0] == 29]\n",
    "    checa.append(fe2[0] <= mes[fe2[1]] or all(bis))\n",
    "    \n",
    "    #Compruebo que los años no tengan mas de 4 digitos\n",
    "    checa.append(fe1[2] < 10000)\n",
    "    checa.append(fe2[2] < 10000)\n",
    "    \n",
    "    #Compruebo que los sean al menos 1582 para considerar los bisietos\n",
    "    checa.append(fe2[2] > 1581)\n",
    "    checa.append(fe2[2] > 1581)\n",
    "    \n",
    "    #Si las fechas cumplen el formato regreso la cantidad de dias entre fechas\n",
    "    if all(checa):\n",
    "        dia1 = zero1582(fe1[0], fe1[1], fe1[2])\n",
    "        dia2 = zero1582(fe2[0], fe2[1], fe2[2])\n",
    "        return abs(dia1 - dia2)\n",
    "    \n",
    "    print(\"Formato de fecha invalido\")\n",
    "    return -1\n",
    "        \n",
    "#Numero de dias que llevo vivo\n",
    "fe1 = '02/02/2023'\n",
    "fe2 = '11/03/1999'\n",
    "print(difdias(fe1, fe2))    \n",
    "\n",
    "#Numero de dias entre dos años\n",
    "fe1 = '31/12/2000'\n",
    "fe2 = '31/12/2001'\n",
    "print(difdias(fe1, fe2))\n",
    "\n",
    "#Numero de dias entre dos años cuando el segundo es bisiesto\n",
    "fe1 = '31/12/1999'\n",
    "fe2 = '31/12/2000'\n",
    "print(difdias(fe1, fe2))\n",
    "    "
   ]
  },
  {
   "cell_type": "markdown",
   "metadata": {},
   "source": [
    "---\n",
    "# Problema 5\n",
    "\n",
    "Para simplificar el código, usamos 'list comprehension'. \n",
    "Como queremos una matriz transpuesta es una lista de lista, nuestra lista debe almacenar listas. \n",
    "Estas listas equivalen al elemento en la posición i de cada fila(lista) de la matriz(lista) original. \n",
    "Y esto lo hacemos para i igual al número de columnas de la matriz, es decir, el tamaño de una fila. En particular la primera."
   ]
  },
  {
   "cell_type": "code",
   "execution_count": 1,
   "metadata": {},
   "outputs": [
    {
     "name": "stdout",
     "output_type": "stream",
     "text": [
      "[[1, 2, 3], [4, 5, 6], [7, 8, 9]] \n",
      "\n",
      "[[1, 4, 7], [2, 5, 8], [3, 6, 9]] \n",
      "\n",
      "[[1, 2, 3], [4, 5, 6], [7, 8, 9]] \n",
      "\n",
      "[['a', 'b', 'c'], ['d', 'e', 'f'], ['g', 'h', 'i']] \n",
      "\n",
      "[['a', 'd', 'g'], ['b', 'e', 'h'], ['c', 'f', 'i']] \n",
      "\n",
      "[['a', 'b', 'c'], ['d', 'e', 'f'], ['g', 'h', 'i']] \n",
      "\n"
     ]
    }
   ],
   "source": [
    "def listrans(arr):\n",
    "    for i in range(len(arr)):\n",
    "        for j in range(i, len(arr)):\n",
    "            aux = arr[i][j]\n",
    "            arr[i][j] = arr[j][i]\n",
    "            arr[j][i] = aux\n",
    "    return arr\n",
    "\n",
    "#Matriz inicial\n",
    "arr = [[1,2,3],[4,5,6], [7,8,9]]\n",
    "print(arr, '\\n')\n",
    "\n",
    "#Matriz transpuesta\n",
    "arr = listrans(arr)\n",
    "print(arr, '\\n')\n",
    "\n",
    "#La transpuesta de la transpuesta deberia ser igual que la original\n",
    "arr = listrans(arr)\n",
    "print(arr, '\\n')\n",
    "\n",
    "#Comprobamos que tambien funcione para strings\n",
    "matstr = [['a','b', 'c'],['d', 'e', 'f'], ['g', 'h', 'i']] \n",
    "print(matstr,'\\n')\n",
    "\n",
    "matstr = listrans(matstr)\n",
    "print(matstr, '\\n')\n",
    "\n",
    "matstr = listrans(matstr)\n",
    "print(matstr, '\\n')"
   ]
  },
  {
   "cell_type": "markdown",
   "metadata": {},
   "source": [
    "---\n",
    "# Problema 6\n",
    "\n",
    "Para este problema consideramos una tolerancia de $10^{-8}$ como la condición de paro y un máximo de 200 iteraciones para encontrar la raíz. \n",
    "En el notebook se muestran dos ejemplos, el método de Newton-Raphson evaluando la función seno y evaluando la función $x^2 - 4$\n",
    "Con la función seno, como su derivada es coseno, siempre se mantiene que el valor absoluto de la pendiente no es mayor que 1. \n",
    "Por otro lado, derivada de $x^2 - 4$ es $2x$ por lo que la pendiente alrededor de las raíces, $\\{-2,2\\}$ es mayor que 1. \n",
    "Intentamos con un punto inicial cuya derivad no sea mayor que 1 como 0.25 pero tampoco encontró la solución. \n"
   ]
  },
  {
   "cell_type": "code",
   "execution_count": 26,
   "metadata": {},
   "outputs": [
    {
     "name": "stdout",
     "output_type": "stream",
     "text": [
      "Se encontro la solucion en 4 iteraciones\n",
      "2.923566201412306e-13\n",
      "2.923566201412306e-13\n",
      "La pendiente en el punto 2.5 es mayor que 1\n",
      "No se encontro solucion\n",
      "2.5\n",
      "2.25\n",
      "La pendiente en el punto 8.125 es mayor que 1\n",
      "No se encontro solucion\n",
      "8.125\n",
      "62.015625\n"
     ]
    }
   ],
   "source": [
    "import math\n",
    "\n",
    "def derix24(x):\n",
    "    return 2*x\n",
    "\n",
    "def funcx24(x):\n",
    "    return x**2 - 4\n",
    "\n",
    "def newtonrap(func, dif, x):\n",
    "    tol = 1E-8\n",
    "    x0 = x\n",
    "    max_iter = 200 \n",
    "    i = 0\n",
    "    x1 = x0\n",
    "    while abs(func(x1)) > tol and i < max_iter:\n",
    "        i = i + 1\n",
    "        x1 = x0 - func(x0)/dif(x1)  # Newton-Raphson equation\n",
    "        x0 = x1\n",
    "        if abs(dif(x0)) > 1: \n",
    "            i = max_iter\n",
    "            print(\"La pendiente en el punto\", x0, \"es mayor que 1\")\n",
    "    if i < max_iter: \n",
    "        print(\"Se encontro la solucion en\", i, \"iteraciones\")\n",
    "    else: \n",
    "        print(\"No se encontro solucion\")\n",
    "    return x0\n",
    "\n",
    "cas1 = newtonrap(math.sin, math.cos, 1)\n",
    "print(cas1)\n",
    "print(math.sin(cas1))\n",
    "cas2 = newtonrap(funcx24,derix24, 4.0)\n",
    "print(cas2)\n",
    "print(funcx24(cas2))\n",
    "cas3 = newtonrap(funcx24,derix24, 0.25)\n",
    "print(cas3)\n",
    "print(funcx24(cas3))"
   ]
  },
  {
   "cell_type": "markdown",
   "metadata": {},
   "source": [
    "---\n",
    "# Problema 7\n",
    "\n",
    "Para este problema consideramos que los números llegan en forma de string "
   ]
  },
  {
   "cell_type": "code",
   "execution_count": 19,
   "metadata": {},
   "outputs": [
    {
     "name": "stdout",
     "output_type": "stream",
     "text": [
      "10101.101\n",
      "21.625\n"
     ]
    }
   ],
   "source": [
    "def dectobin(deci):\n",
    "    #Separo en el numero en parte entera y parte decimal\n",
    "    num = deci.split('.')\n",
    "    \n",
    "    #Creo la string con la transformación a binaria\n",
    "    #de la parte entera\n",
    "    aux = int(num[0])\n",
    "    bin = []\n",
    "    while aux > 0:\n",
    "        bin.append(aux%2)\n",
    "        aux = aux//2\n",
    "    bin.reverse()\n",
    "    bin = [str(x) for x in bin]\n",
    "    pnt = '0'\n",
    "    \n",
    "    #Si tiene parte fracionaria, creo la string tras pasarla a binario\n",
    "    if len(num) > 1:\n",
    "        pnt = []\n",
    "        num[1] = '0.' + num[1]\n",
    "        aux = float(num[1])\n",
    "        i = 0\n",
    "        pot = 0.5\n",
    "        #Como no sabemos si es infinita la parte fracionaria \n",
    "        #Pongo un maximo de 10 digitos tras el punto\n",
    "        while aux > 0 and i < 10:\n",
    "            if aux >= pot:\n",
    "                pnt.append('1')\n",
    "                aux -= pot\n",
    "            else:\n",
    "                pnt.append('0')\n",
    "            pot = pot/2.0\n",
    "            i +=1\n",
    "        pnt = ''.join(pnt)\n",
    "\n",
    "    return ''.join(bin) + '.' + pnt\n",
    "\n",
    "def bintodec(bini):\n",
    "    num = bini.split('.')\n",
    "    \n",
    "    #Calculo la parte entera\n",
    "    pot = 1\n",
    "    ent = 0\n",
    "    num[0] = num[0][::-1]\n",
    "    for x in num[0]:\n",
    "        if x == '1':\n",
    "            ent += pot\n",
    "        pot *= 2\n",
    "    \n",
    "    #Calculo la parte fraccionaria\n",
    "    frac = '0'\n",
    "    if len(num) > 1:\n",
    "        frac = 0\n",
    "        pot = 0.5\n",
    "        for x in num[1]:\n",
    "            if x == '1':\n",
    "                frac += pot\n",
    "            pot *= 0.5\n",
    "        frac = str(frac).split('.')[1]\n",
    "        \n",
    "    return str(ent) + '.' + frac\n",
    "\n",
    "prueba = '21.625'\n",
    "print(dectobin(prueba))\n",
    "    \n",
    "bini = '10101.101'\n",
    "print(bintodec(bini))"
   ]
  },
  {
   "cell_type": "markdown",
   "metadata": {},
   "source": [
    "---\n",
    "# Problema 8"
   ]
  },
  {
   "cell_type": "code",
   "execution_count": 7,
   "metadata": {},
   "outputs": [
    {
     "name": "stdout",
     "output_type": "stream",
     "text": [
      "{'es': 2, 'este': 1, 'un': 1, 'documento': 1, 'que': 1, 'la': 1, 'prueba': 1, 'numero': 1, '1': 1, '.': 1}\n"
     ]
    }
   ],
   "source": [
    "import yaml\n",
    "\n",
    "def sinaceto(s):\n",
    "    reemplazo = (\n",
    "        ('Ã¡', 'a'),\n",
    "        ('Ã©', 'e'),\n",
    "        ('Ã', 'i'),\n",
    "        ('i³', 'o'),\n",
    "        ('iº', 'u'),\n",
    "        ('\\xAD','')\n",
    "    )\n",
    "    for a, b in reemplazo:\n",
    "        s = s.replace(a, b)\n",
    "    return s\n",
    "\n",
    "def agrega(a, dic):\n",
    "    if a.isalpha():\n",
    "        a = a.lower()\n",
    "    if a in dic:\n",
    "        dic[a] = dic[a] + 1\n",
    "    else:\n",
    "        dic[a] = 1\n",
    "        \n",
    "def divide(word):\n",
    "    lista = [word]\n",
    "    aux = True\n",
    "    while aux:\n",
    "        aux2 = False\n",
    "        quita = ''\n",
    "        dato = ''\n",
    "        for word in lista:\n",
    "            if not word.isalpha() and len(word) > 1: \n",
    "                aux2 = True\n",
    "                quita = word\n",
    "                for x in word:\n",
    "                    if not x.isalpha():\n",
    "                        dato = x\n",
    "                        break\n",
    "                break\n",
    "        if aux2:\n",
    "            lista.remove(quita)\n",
    "            for x in quita:\n",
    "                if x == dato:\n",
    "                    lista.append(dato)\n",
    "            lista += quita.split(dato)\n",
    "        aux = aux2\n",
    "    while '' in lista:\n",
    "        lista.remove('')\n",
    "    return lista\n",
    "\n",
    "def cuenta(doc):\n",
    "    datos = []\n",
    "    with open(doc) as f:\n",
    "        contents = f.read()\n",
    "        contents = sinaceto(contents)\n",
    "        datos = contents.split()\n",
    "    dic = {}\n",
    "    for word in datos:\n",
    "        if word.isalpha():\n",
    "            agrega(word, dic)\n",
    "        else: \n",
    "            lista = divide(word)\n",
    "            for x in lista:\n",
    "                agrega(x, dic)\n",
    "    dic = sorted(dic.items(), key=lambda x:x[1], reverse = True)\n",
    "    dic = dict(dic)\n",
    "    return dic\n",
    "\n",
    "\n",
    "doc = 'prueba.txt'\n",
    "dic = cuenta(doc)\n",
    "print(dic)\n",
    "with open(r'respuesta.yaml', 'w') as file:\n",
    "    documents = yaml.dump(dic, file, sort_keys=False)"
   ]
  },
  {
   "cell_type": "markdown",
   "metadata": {},
   "source": [
    "---\n",
    "# Problema 9"
   ]
  },
  {
   "cell_type": "code",
   "execution_count": 33,
   "metadata": {},
   "outputs": [
    {
     "data": {
      "image/png": "[encoded data removed]",
      "text/plain": [
       "<Figure size 432x288 with 1 Axes>"
      ]
     },
     "metadata": {
      "needs_background": "light"
     },
     "output_type": "display_data"
    },
    {
     "name": "stdout",
     "output_type": "stream",
     "text": [
      "True\n"
     ]
    },
    {
     "data": {
      "image/png": "[encoded data removed]",
      "text/plain": [
       "<Figure size 432x288 with 1 Axes>"
      ]
     },
     "metadata": {
      "needs_background": "light"
     },
     "output_type": "display_data"
    }
   ],
   "source": [
    "from PIL import Image\n",
    "import urllib\n",
    "import numpy as np\n",
    "import matplotlib.pyplot as plt\n",
    "\n",
    "def hacehist(url, n):\n",
    "    req = urllib.request.urlopen(url)\n",
    "\n",
    "    arr = np.asarray(bytearray(req.read()), dtype=np.uint8)\n",
    "    \n",
    "    img = Image.open(\"img.png\")\n",
    "    plt.imshow(img)\n",
    "    plt.show()\n",
    "    img = img.convert('L')\n",
    "    \n",
    "    counts, bins = np.histogram(np.array(img), bins = n)\n",
    "    plt.hist(bins[:-1], bins, weights=counts)\n",
    "    \n",
    "    plt.xlabel('intensidad de iluminacion')\n",
    "    plt.ylabel('cantidad de pixeles')\n",
    "    plt.show()\n",
    "\n",
    "    \n",
    "url = 'https://developer.ibm.com/developer/default/articles/learn-the-basics-of-computer-vision-and-object-detection/images/greyscaleimage.png'\n",
    "hacehist(url, 20)"
   ]
  },
  {
   "cell_type": "code",
   "execution_count": null,
   "metadata": {},
   "outputs": [],
   "source": [
    "#img = Image.open(\"img.png\")\n",
    "#img = img.convert('L')\n",
    "\n",
    "#counts, bins = np.histogram(np.array(img), bins = n)\n",
    "#plt.hist(bins[:-1], bins, weights=counts)"
   ]
  }
 ],
 "metadata": {
  "kernelspec": {
   "display_name": "Python 3",
   "language": "python",
   "name": "python3"
  },
  "language_info": {
   "codemirror_mode": {
    "name": "ipython",
    "version": 3
   },
   "file_extension": ".py",
   "mimetype": "text/x-python",
   "name": "python",
   "nbconvert_exporter": "python",
   "pygments_lexer": "ipython3",
   "version": "3.8.5"
  }
 },
 "nbformat": 4,
 "nbformat_minor": 4
}
